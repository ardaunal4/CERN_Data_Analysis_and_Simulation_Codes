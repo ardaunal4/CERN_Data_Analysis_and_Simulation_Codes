{
 "cells": [
  {
   "cell_type": "code",
   "execution_count": 1,
   "metadata": {},
   "outputs": [],
   "source": [
    "import pandas as pd\n",
    "import numpy as np\n",
    "import matplotlib.pyplot as plt\n",
    "from decimal import Decimal"
   ]
  },
  {
   "cell_type": "code",
   "execution_count": 34,
   "metadata": {},
   "outputs": [],
   "source": [
    "data = pd.read_csv(\"C:\\\\data\\\\offset_correction_data.csv\")"
   ]
  },
  {
   "cell_type": "code",
   "execution_count": 15,
   "metadata": {},
   "outputs": [],
   "source": [
    "data[\"24bit[bin]\"] = [abs(bits) for bits in data[\"24bit[bin]\"]]"
   ]
  },
  {
   "cell_type": "code",
   "execution_count": 35,
   "metadata": {
    "scrolled": true
   },
   "outputs": [
    {
     "name": "stdout",
     "output_type": "stream",
     "text": [
      "<class 'pandas.core.frame.DataFrame'>\n",
      "RangeIndex: 9107 entries, 0 to 9106\n",
      "Data columns (total 9 columns):\n",
      " #   Column              Non-Null Count  Dtype  \n",
      "---  ------              --------------  -----  \n",
      " 0   time                9107 non-null   object \n",
      " 1   step                9107 non-null   int64  \n",
      " 2   current[mA]         9107 non-null   float64\n",
      " 3   real_currentx10[V]  9107 non-null   float64\n",
      " 4   RANGE1[V]           9107 non-null   float64\n",
      " 5   RANGE2[V]           9107 non-null   float64\n",
      " 6   RANGE3[V]           9107 non-null   float64\n",
      " 7   RANGE4[V]           9107 non-null   float64\n",
      " 8   24bit[bin]          9107 non-null   int64  \n",
      "dtypes: float64(6), int64(2), object(1)\n",
      "memory usage: 640.5+ KB\n"
     ]
    }
   ],
   "source": [
    "data.info()"
   ]
  },
  {
   "cell_type": "code",
   "execution_count": 36,
   "metadata": {},
   "outputs": [
    {
     "data": {
      "text/html": [
       "<div>\n",
       "<style scoped>\n",
       "    .dataframe tbody tr th:only-of-type {\n",
       "        vertical-align: middle;\n",
       "    }\n",
       "\n",
       "    .dataframe tbody tr th {\n",
       "        vertical-align: top;\n",
       "    }\n",
       "\n",
       "    .dataframe thead th {\n",
       "        text-align: right;\n",
       "    }\n",
       "</style>\n",
       "<table border=\"1\" class=\"dataframe\">\n",
       "  <thead>\n",
       "    <tr style=\"text-align: right;\">\n",
       "      <th></th>\n",
       "      <th>time</th>\n",
       "      <th>step</th>\n",
       "      <th>current[mA]</th>\n",
       "      <th>real_currentx10[V]</th>\n",
       "      <th>RANGE1[V]</th>\n",
       "      <th>RANGE2[V]</th>\n",
       "      <th>RANGE3[V]</th>\n",
       "      <th>RANGE4[V]</th>\n",
       "      <th>24bit[bin]</th>\n",
       "    </tr>\n",
       "  </thead>\n",
       "  <tbody>\n",
       "    <tr>\n",
       "      <th>0</th>\n",
       "      <td>21:43:14</td>\n",
       "      <td>1</td>\n",
       "      <td>0.0</td>\n",
       "      <td>-4.169924e-06</td>\n",
       "      <td>-3.327927e-06</td>\n",
       "      <td>0.000121</td>\n",
       "      <td>0.000190</td>\n",
       "      <td>0.007692</td>\n",
       "      <td>6</td>\n",
       "    </tr>\n",
       "    <tr>\n",
       "      <th>1</th>\n",
       "      <td>21:43:19</td>\n",
       "      <td>1</td>\n",
       "      <td>0.0</td>\n",
       "      <td>-4.860105e-06</td>\n",
       "      <td>3.056233e-06</td>\n",
       "      <td>-0.000111</td>\n",
       "      <td>-0.000315</td>\n",
       "      <td>0.002388</td>\n",
       "      <td>10</td>\n",
       "    </tr>\n",
       "    <tr>\n",
       "      <th>2</th>\n",
       "      <td>21:43:24</td>\n",
       "      <td>1</td>\n",
       "      <td>0.0</td>\n",
       "      <td>1.227938e-05</td>\n",
       "      <td>2.711063e-06</td>\n",
       "      <td>0.000064</td>\n",
       "      <td>-0.000680</td>\n",
       "      <td>-0.007919</td>\n",
       "      <td>-13</td>\n",
       "    </tr>\n",
       "    <tr>\n",
       "      <th>3</th>\n",
       "      <td>21:43:29</td>\n",
       "      <td>1</td>\n",
       "      <td>0.0</td>\n",
       "      <td>1.118660e-05</td>\n",
       "      <td>-7.181697e-06</td>\n",
       "      <td>0.000065</td>\n",
       "      <td>0.000017</td>\n",
       "      <td>0.003363</td>\n",
       "      <td>6</td>\n",
       "    </tr>\n",
       "    <tr>\n",
       "      <th>4</th>\n",
       "      <td>21:43:34</td>\n",
       "      <td>1</td>\n",
       "      <td>0.0</td>\n",
       "      <td>7.763744e-07</td>\n",
       "      <td>3.918703e-06</td>\n",
       "      <td>-0.000056</td>\n",
       "      <td>0.000313</td>\n",
       "      <td>-0.003231</td>\n",
       "      <td>-10</td>\n",
       "    </tr>\n",
       "    <tr>\n",
       "      <th>5</th>\n",
       "      <td>21:43:39</td>\n",
       "      <td>1</td>\n",
       "      <td>0.0</td>\n",
       "      <td>6.010244e-06</td>\n",
       "      <td>9.278332e-07</td>\n",
       "      <td>0.000051</td>\n",
       "      <td>0.000739</td>\n",
       "      <td>0.005434</td>\n",
       "      <td>27</td>\n",
       "    </tr>\n",
       "    <tr>\n",
       "      <th>6</th>\n",
       "      <td>21:43:44</td>\n",
       "      <td>1</td>\n",
       "      <td>0.0</td>\n",
       "      <td>5.837697e-06</td>\n",
       "      <td>5.644153e-06</td>\n",
       "      <td>0.000124</td>\n",
       "      <td>0.000545</td>\n",
       "      <td>0.002889</td>\n",
       "      <td>-2</td>\n",
       "    </tr>\n",
       "    <tr>\n",
       "      <th>7</th>\n",
       "      <td>21:43:49</td>\n",
       "      <td>1</td>\n",
       "      <td>0.0</td>\n",
       "      <td>-2.904592e-06</td>\n",
       "      <td>-1.085057e-06</td>\n",
       "      <td>-0.000034</td>\n",
       "      <td>0.000035</td>\n",
       "      <td>-0.003426</td>\n",
       "      <td>5</td>\n",
       "    </tr>\n",
       "    <tr>\n",
       "      <th>8</th>\n",
       "      <td>21:43:54</td>\n",
       "      <td>1</td>\n",
       "      <td>0.0</td>\n",
       "      <td>7.045511e-06</td>\n",
       "      <td>3.528632e-07</td>\n",
       "      <td>-0.000043</td>\n",
       "      <td>0.000232</td>\n",
       "      <td>-0.000400</td>\n",
       "      <td>1</td>\n",
       "    </tr>\n",
       "    <tr>\n",
       "      <th>9</th>\n",
       "      <td>21:43:59</td>\n",
       "      <td>1</td>\n",
       "      <td>0.0</td>\n",
       "      <td>-7.333252e-06</td>\n",
       "      <td>-9.698968e-07</td>\n",
       "      <td>0.000066</td>\n",
       "      <td>0.000368</td>\n",
       "      <td>0.000595</td>\n",
       "      <td>10</td>\n",
       "    </tr>\n",
       "  </tbody>\n",
       "</table>\n",
       "</div>"
      ],
      "text/plain": [
       "       time  step  current[mA]  real_currentx10[V]     RANGE1[V]  RANGE2[V]  \\\n",
       "0  21:43:14     1          0.0       -4.169924e-06 -3.327927e-06   0.000121   \n",
       "1  21:43:19     1          0.0       -4.860105e-06  3.056233e-06  -0.000111   \n",
       "2  21:43:24     1          0.0        1.227938e-05  2.711063e-06   0.000064   \n",
       "3  21:43:29     1          0.0        1.118660e-05 -7.181697e-06   0.000065   \n",
       "4  21:43:34     1          0.0        7.763744e-07  3.918703e-06  -0.000056   \n",
       "5  21:43:39     1          0.0        6.010244e-06  9.278332e-07   0.000051   \n",
       "6  21:43:44     1          0.0        5.837697e-06  5.644153e-06   0.000124   \n",
       "7  21:43:49     1          0.0       -2.904592e-06 -1.085057e-06  -0.000034   \n",
       "8  21:43:54     1          0.0        7.045511e-06  3.528632e-07  -0.000043   \n",
       "9  21:43:59     1          0.0       -7.333252e-06 -9.698968e-07   0.000066   \n",
       "\n",
       "   RANGE3[V]  RANGE4[V]  24bit[bin]  \n",
       "0   0.000190   0.007692           6  \n",
       "1  -0.000315   0.002388          10  \n",
       "2  -0.000680  -0.007919         -13  \n",
       "3   0.000017   0.003363           6  \n",
       "4   0.000313  -0.003231         -10  \n",
       "5   0.000739   0.005434          27  \n",
       "6   0.000545   0.002889          -2  \n",
       "7   0.000035  -0.003426           5  \n",
       "8   0.000232  -0.000400           1  \n",
       "9   0.000368   0.000595          10  "
      ]
     },
     "execution_count": 36,
     "metadata": {},
     "output_type": "execute_result"
    }
   ],
   "source": [
    "data.head(10)"
   ]
  },
  {
   "cell_type": "code",
   "execution_count": 37,
   "metadata": {},
   "outputs": [],
   "source": [
    "time = list(data[\"time\"])\n",
    "step = list(data[\"step\"])\n",
    "current = list(data[\"current[mA]\"])\n",
    "current_volt = list(data[\"real_currentx10[V]\"])\n",
    "range1 = list(data[\"RANGE1[V]\"])\n",
    "range2 = list(data[\"RANGE2[V]\"])\n",
    "range3 = list(data[\"RANGE3[V]\"])\n",
    "range4 = list(data[\"RANGE4[V]\"])\n",
    "adc24bit = list(data[\"24bit[bin]\"])"
   ]
  },
  {
   "cell_type": "code",
   "execution_count": 38,
   "metadata": {
    "scrolled": false
   },
   "outputs": [
    {
     "data": {
      "image/png": "[encoded data removed]",
      "text/plain": [
       "<Figure size 432x288 with 1 Axes>"
      ]
     },
     "metadata": {
      "needs_background": "light"
     },
     "output_type": "display_data"
    }
   ],
   "source": [
    "plt.plot(current_volt)\n",
    "plt.title(\"Measured Current [x10Amp][V]\")\n",
    "plt.savefig(\"C:\\\\data\\\\measured_current.png\")"
   ]
  },
  {
   "cell_type": "code",
   "execution_count": 39,
   "metadata": {},
   "outputs": [
    {
     "data": {
      "image/png": "[encoded data removed]",
      "text/plain": [
       "<Figure size 432x288 with 1 Axes>"
      ]
     },
     "metadata": {
      "needs_background": "light"
     },
     "output_type": "display_data"
    }
   ],
   "source": [
    "plt.plot(range1)\n",
    "plt.title(\"RANGE1[V]\")\n",
    "plt.savefig(\"C:\\\\data\\\\range1.png\")"
   ]
  },
  {
   "cell_type": "code",
   "execution_count": 40,
   "metadata": {},
   "outputs": [
    {
     "data": {
      "image/png": "[encoded data removed]",
      "text/plain": [
       "<Figure size 432x288 with 1 Axes>"
      ]
     },
     "metadata": {
      "needs_background": "light"
     },
     "output_type": "display_data"
    }
   ],
   "source": [
    "plt.plot(range2)\n",
    "plt.title(\"RANGE2[V]\")\n",
    "plt.savefig(\"C:\\\\data\\\\range2.png\")"
   ]
  },
  {
   "cell_type": "code",
   "execution_count": 41,
   "metadata": {
    "scrolled": true
   },
   "outputs": [
    {
     "data": {
      "image/png": "[encoded data removed]",
      "text/plain": [
       "<Figure size 432x288 with 1 Axes>"
      ]
     },
     "metadata": {
      "needs_background": "light"
     },
     "output_type": "display_data"
    }
   ],
   "source": [
    "plt.plot(range3)\n",
    "plt.title(\"RANGE3[V]\")\n",
    "plt.savefig(\"C:\\\\data\\\\range3.png\")"
   ]
  },
  {
   "cell_type": "code",
   "execution_count": 42,
   "metadata": {
    "scrolled": true
   },
   "outputs": [
    {
     "data": {
      "image/png": "[encoded data removed]",
      "text/plain": [
       "<Figure size 432x288 with 1 Axes>"
      ]
     },
     "metadata": {
      "needs_background": "light"
     },
     "output_type": "display_data"
    }
   ],
   "source": [
    "plt.plot(range4)\n",
    "plt.title(\"RANGE4[V]\")\n",
    "plt.savefig(\"C:\\\\data\\\\range4.png\")"
   ]
  },
  {
   "cell_type": "code",
   "execution_count": 43,
   "metadata": {},
   "outputs": [
    {
     "data": {
      "image/png": "[encoded data removed]",
      "text/plain": [
       "<Figure size 432x288 with 1 Axes>"
      ]
     },
     "metadata": {
      "needs_background": "light"
     },
     "output_type": "display_data"
    }
   ],
   "source": [
    "plt.plot(adc24bit)\n",
    "plt.title(\"24bit[bin]\")\n",
    "plt.savefig(\"C:\\\\data\\\\adc.png\")"
   ]
  },
  {
   "cell_type": "code",
   "execution_count": 18,
   "metadata": {
    "scrolled": true
   },
   "outputs": [
    {
     "data": {
      "text/html": [
       "<div>\n",
       "<style scoped>\n",
       "    .dataframe tbody tr th:only-of-type {\n",
       "        vertical-align: middle;\n",
       "    }\n",
       "\n",
       "    .dataframe tbody tr th {\n",
       "        vertical-align: top;\n",
       "    }\n",
       "\n",
       "    .dataframe thead th {\n",
       "        text-align: right;\n",
       "    }\n",
       "</style>\n",
       "<table border=\"1\" class=\"dataframe\">\n",
       "  <thead>\n",
       "    <tr style=\"text-align: right;\">\n",
       "      <th></th>\n",
       "      <th>time</th>\n",
       "      <th>step</th>\n",
       "      <th>current[mA]</th>\n",
       "      <th>real_currentx10[V]</th>\n",
       "      <th>RANGE1[V]</th>\n",
       "      <th>RANGE2[V]</th>\n",
       "      <th>RANGE3[V]</th>\n",
       "      <th>RANGE4[V]</th>\n",
       "      <th>24bit[bin]</th>\n",
       "    </tr>\n",
       "  </thead>\n",
       "  <tbody>\n",
       "    <tr>\n",
       "      <th>0</th>\n",
       "      <td>21:43:14</td>\n",
       "      <td>1</td>\n",
       "      <td>0.0</td>\n",
       "      <td>-4.169924e-06</td>\n",
       "      <td>-0.001079</td>\n",
       "      <td>-0.001410</td>\n",
       "      <td>-0.003906</td>\n",
       "      <td>-0.005510</td>\n",
       "      <td>821</td>\n",
       "    </tr>\n",
       "    <tr>\n",
       "      <th>1</th>\n",
       "      <td>21:43:19</td>\n",
       "      <td>1</td>\n",
       "      <td>0.0</td>\n",
       "      <td>-4.860105e-06</td>\n",
       "      <td>-0.001073</td>\n",
       "      <td>-0.001642</td>\n",
       "      <td>-0.004410</td>\n",
       "      <td>-0.010814</td>\n",
       "      <td>825</td>\n",
       "    </tr>\n",
       "    <tr>\n",
       "      <th>2</th>\n",
       "      <td>21:43:24</td>\n",
       "      <td>1</td>\n",
       "      <td>0.0</td>\n",
       "      <td>1.227938e-05</td>\n",
       "      <td>-0.001073</td>\n",
       "      <td>-0.001466</td>\n",
       "      <td>-0.004775</td>\n",
       "      <td>-0.021122</td>\n",
       "      <td>801</td>\n",
       "    </tr>\n",
       "    <tr>\n",
       "      <th>3</th>\n",
       "      <td>21:43:29</td>\n",
       "      <td>1</td>\n",
       "      <td>0.0</td>\n",
       "      <td>1.118660e-05</td>\n",
       "      <td>-0.001083</td>\n",
       "      <td>-0.001465</td>\n",
       "      <td>-0.004079</td>\n",
       "      <td>-0.009839</td>\n",
       "      <td>821</td>\n",
       "    </tr>\n",
       "    <tr>\n",
       "      <th>4</th>\n",
       "      <td>21:43:34</td>\n",
       "      <td>1</td>\n",
       "      <td>0.0</td>\n",
       "      <td>7.763744e-07</td>\n",
       "      <td>-0.001072</td>\n",
       "      <td>-0.001586</td>\n",
       "      <td>-0.003782</td>\n",
       "      <td>-0.016433</td>\n",
       "      <td>804</td>\n",
       "    </tr>\n",
       "    <tr>\n",
       "      <th>...</th>\n",
       "      <td>...</td>\n",
       "      <td>...</td>\n",
       "      <td>...</td>\n",
       "      <td>...</td>\n",
       "      <td>...</td>\n",
       "      <td>...</td>\n",
       "      <td>...</td>\n",
       "      <td>...</td>\n",
       "      <td>...</td>\n",
       "    </tr>\n",
       "    <tr>\n",
       "      <th>222</th>\n",
       "      <td>22:01:44</td>\n",
       "      <td>1</td>\n",
       "      <td>0.0</td>\n",
       "      <td>1.811643e-06</td>\n",
       "      <td>-0.001075</td>\n",
       "      <td>-0.001492</td>\n",
       "      <td>-0.003749</td>\n",
       "      <td>-0.013370</td>\n",
       "      <td>827</td>\n",
       "    </tr>\n",
       "    <tr>\n",
       "      <th>223</th>\n",
       "      <td>22:01:49</td>\n",
       "      <td>1</td>\n",
       "      <td>0.0</td>\n",
       "      <td>3.767157e-06</td>\n",
       "      <td>-0.001068</td>\n",
       "      <td>-0.001480</td>\n",
       "      <td>-0.005197</td>\n",
       "      <td>-0.015266</td>\n",
       "      <td>809</td>\n",
       "    </tr>\n",
       "    <tr>\n",
       "      <th>224</th>\n",
       "      <td>22:01:54</td>\n",
       "      <td>1</td>\n",
       "      <td>0.0</td>\n",
       "      <td>4.629882e-06</td>\n",
       "      <td>-0.001080</td>\n",
       "      <td>-0.001538</td>\n",
       "      <td>-0.005844</td>\n",
       "      <td>-0.025490</td>\n",
       "      <td>814</td>\n",
       "    </tr>\n",
       "    <tr>\n",
       "      <th>225</th>\n",
       "      <td>22:01:59</td>\n",
       "      <td>1</td>\n",
       "      <td>0.0</td>\n",
       "      <td>1.984189e-06</td>\n",
       "      <td>-0.001079</td>\n",
       "      <td>-0.001484</td>\n",
       "      <td>-0.004077</td>\n",
       "      <td>-0.015566</td>\n",
       "      <td>805</td>\n",
       "    </tr>\n",
       "    <tr>\n",
       "      <th>226</th>\n",
       "      <td>22:02:04</td>\n",
       "      <td>1</td>\n",
       "      <td>0.0</td>\n",
       "      <td>7.763719e-07</td>\n",
       "      <td>-0.001076</td>\n",
       "      <td>-0.001553</td>\n",
       "      <td>-0.004035</td>\n",
       "      <td>-0.014654</td>\n",
       "      <td>800</td>\n",
       "    </tr>\n",
       "  </tbody>\n",
       "</table>\n",
       "<p>227 rows × 9 columns</p>\n",
       "</div>"
      ],
      "text/plain": [
       "         time  step  current[mA]  real_currentx10[V]  RANGE1[V]  RANGE2[V]  \\\n",
       "0    21:43:14     1          0.0       -4.169924e-06  -0.001079  -0.001410   \n",
       "1    21:43:19     1          0.0       -4.860105e-06  -0.001073  -0.001642   \n",
       "2    21:43:24     1          0.0        1.227938e-05  -0.001073  -0.001466   \n",
       "3    21:43:29     1          0.0        1.118660e-05  -0.001083  -0.001465   \n",
       "4    21:43:34     1          0.0        7.763744e-07  -0.001072  -0.001586   \n",
       "..        ...   ...          ...                 ...        ...        ...   \n",
       "222  22:01:44     1          0.0        1.811643e-06  -0.001075  -0.001492   \n",
       "223  22:01:49     1          0.0        3.767157e-06  -0.001068  -0.001480   \n",
       "224  22:01:54     1          0.0        4.629882e-06  -0.001080  -0.001538   \n",
       "225  22:01:59     1          0.0        1.984189e-06  -0.001079  -0.001484   \n",
       "226  22:02:04     1          0.0        7.763719e-07  -0.001076  -0.001553   \n",
       "\n",
       "     RANGE3[V]  RANGE4[V]  24bit[bin]  \n",
       "0    -0.003906  -0.005510         821  \n",
       "1    -0.004410  -0.010814         825  \n",
       "2    -0.004775  -0.021122         801  \n",
       "3    -0.004079  -0.009839         821  \n",
       "4    -0.003782  -0.016433         804  \n",
       "..         ...        ...         ...  \n",
       "222  -0.003749  -0.013370         827  \n",
       "223  -0.005197  -0.015266         809  \n",
       "224  -0.005844  -0.025490         814  \n",
       "225  -0.004077  -0.015566         805  \n",
       "226  -0.004035  -0.014654         800  \n",
       "\n",
       "[227 rows x 9 columns]"
      ]
     },
     "execution_count": 18,
     "metadata": {},
     "output_type": "execute_result"
    }
   ],
   "source": [
    "filter1 = data[\"step\"] == 1\n",
    "filtered_data = data[filter1]\n",
    "filtered_data"
   ]
  },
  {
   "cell_type": "code",
   "execution_count": 19,
   "metadata": {},
   "outputs": [
    {
     "data": {
      "image/png": "[encoded data removed]",
      "text/plain": [
       "<Figure size 432x288 with 1 Axes>"
      ]
     },
     "metadata": {
      "needs_background": "light"
     },
     "output_type": "display_data"
    }
   ],
   "source": [
    "plt.plot(filtered_data[\"RANGE1[V]\"])\n",
    "plt.show()"
   ]
  },
  {
   "cell_type": "code",
   "execution_count": 20,
   "metadata": {},
   "outputs": [
    {
     "data": {
      "image/png": "[encoded data removed]",
      "text/plain": [
       "<Figure size 432x288 with 1 Axes>"
      ]
     },
     "metadata": {
      "needs_background": "light"
     },
     "output_type": "display_data"
    }
   ],
   "source": [
    "plt.plot(filtered_data[\"24bit[bin]\"])\n",
    "plt.ylabel(\"Values\")\n",
    "plt.xlabel(\"5 Seconds\")\n",
    "plt.title(\"24 BIT PLOT AT 0 CURRENT\")\n",
    "plt.savefig(\"C:\\\\data\\\\24bit_offset.png\")"
   ]
  },
  {
   "cell_type": "code",
   "execution_count": 21,
   "metadata": {},
   "outputs": [
    {
     "data": {
      "text/plain": [
       "-0.0010761426531718063"
      ]
     },
     "execution_count": 21,
     "metadata": {},
     "output_type": "execute_result"
    }
   ],
   "source": [
    "range1_offset = 0\n",
    "add = 0\n",
    "for range1 in filtered_data[\"RANGE1[V]\"]:\n",
    "    add += float(range1)\n",
    "range1_offset = add / len(filtered_data[\"RANGE1[V]\"])\n",
    "range1_line = \"RANGE1 offset is \" + str(range1_offset) + \"\\n\"\n",
    "range1_offset"
   ]
  },
  {
   "cell_type": "code",
   "execution_count": 22,
   "metadata": {},
   "outputs": [
    {
     "data": {
      "text/plain": [
       "-0.0015303748253744497"
      ]
     },
     "execution_count": 22,
     "metadata": {},
     "output_type": "execute_result"
    }
   ],
   "source": [
    "range2_offset = 0\n",
    "add = 0\n",
    "for range2 in filtered_data[\"RANGE2[V]\"]:\n",
    "    add += float(range2)\n",
    "range2_offset = add / len(filtered_data[\"RANGE2[V]\"])\n",
    "range2_line = \"RANGE2 offset is \" + str(range2_offset) + \"\\n\"\n",
    "range2_offset"
   ]
  },
  {
   "cell_type": "code",
   "execution_count": 23,
   "metadata": {},
   "outputs": [
    {
     "data": {
      "text/plain": [
       "-0.004095304421629957"
      ]
     },
     "execution_count": 23,
     "metadata": {},
     "output_type": "execute_result"
    }
   ],
   "source": [
    "range3_offset = 0\n",
    "add = 0\n",
    "for range3 in filtered_data[\"RANGE3[V]\"]:\n",
    "    add += float(range3)\n",
    "range3_offset = add / len(filtered_data[\"RANGE3[V]\"])\n",
    "range3_line = \"RANGE3 offset is \" + str(range3_offset) + \"\\n\"\n",
    "range3_offset"
   ]
  },
  {
   "cell_type": "code",
   "execution_count": 24,
   "metadata": {},
   "outputs": [
    {
     "data": {
      "text/plain": [
       "-0.01320253737703171"
      ]
     },
     "execution_count": 24,
     "metadata": {},
     "output_type": "execute_result"
    }
   ],
   "source": [
    "range4_offset = 0\n",
    "add = 0\n",
    "for range4 in filtered_data[\"RANGE4[V]\"]:\n",
    "    add += float(range4)\n",
    "range4_offset = add / len(filtered_data[\"RANGE4[V]\"])\n",
    "range4_line = \"RANGE4 offset is \" + str(range4_offset) + \"\\n\"\n",
    "range4_offset"
   ]
  },
  {
   "cell_type": "code",
   "execution_count": 25,
   "metadata": {},
   "outputs": [
    {
     "data": {
      "text/plain": [
       "3.7542358297806178e-06"
      ]
     },
     "execution_count": 25,
     "metadata": {},
     "output_type": "execute_result"
    }
   ],
   "source": [
    "real_current_offset = 0\n",
    "add = 0\n",
    "for current in filtered_data[\"real_currentx10[V]\"]:\n",
    "    add += float(current)\n",
    "real_current_offset = add / len(filtered_data[\"real_currentx10[V]\"])\n",
    "current_line = \"Measured current offset is \" + str(real_current_offset) + \"\\n\"\n",
    "real_current_offset"
   ]
  },
  {
   "cell_type": "code",
   "execution_count": 26,
   "metadata": {},
   "outputs": [
    {
     "data": {
      "text/plain": [
       "814.7797356828194"
      ]
     },
     "execution_count": 26,
     "metadata": {},
     "output_type": "execute_result"
    }
   ],
   "source": [
    "adc_offset = 0\n",
    "add = 0\n",
    "for bins in filtered_data[\"24bit[bin]\"]:\n",
    "    add += float(bins)\n",
    "adc_offset = add / len(filtered_data[\"24bit[bin]\"])\n",
    "adc_line = \"24 Bit ADC offset is \" + str(adc_offset) + \"\\n\"\n",
    "adc_offset"
   ]
  },
  {
   "cell_type": "code",
   "execution_count": 27,
   "metadata": {},
   "outputs": [],
   "source": [
    "lines = [range1_line, range2_line, range3_line, range4_line, current_line, adc_line]\n",
    "f = open(\"C:\\\\data\\\\offsets.txt\", \"w\")\n",
    "f.writelines(lines)\n",
    "f.close()"
   ]
  },
  {
   "cell_type": "code",
   "execution_count": 28,
   "metadata": {},
   "outputs": [],
   "source": [
    "data[\"RANGE1[V]\"] = [currents - range1_offset for currents in data[\"RANGE1[V]\"]]\n",
    "data[\"RANGE2[V]\"] = [currents - range2_offset for currents in data[\"RANGE2[V]\"]]\n",
    "data[\"RANGE3[V]\"] = [currents - range3_offset for currents in data[\"RANGE3[V]\"]]\n",
    "data[\"RANGE4[V]\"] = [currents - range4_offset for currents in data[\"RANGE4[V]\"]]\n",
    "data[\"24bit[bin]\"] = [int(currents - adc_offset) for currents in data[\"24bit[bin]\"]]"
   ]
  },
  {
   "cell_type": "code",
   "execution_count": 29,
   "metadata": {},
   "outputs": [
    {
     "data": {
      "text/html": [
       "<div>\n",
       "<style scoped>\n",
       "    .dataframe tbody tr th:only-of-type {\n",
       "        vertical-align: middle;\n",
       "    }\n",
       "\n",
       "    .dataframe tbody tr th {\n",
       "        vertical-align: top;\n",
       "    }\n",
       "\n",
       "    .dataframe thead th {\n",
       "        text-align: right;\n",
       "    }\n",
       "</style>\n",
       "<table border=\"1\" class=\"dataframe\">\n",
       "  <thead>\n",
       "    <tr style=\"text-align: right;\">\n",
       "      <th></th>\n",
       "      <th>time</th>\n",
       "      <th>step</th>\n",
       "      <th>current[mA]</th>\n",
       "      <th>real_currentx10[V]</th>\n",
       "      <th>RANGE1[V]</th>\n",
       "      <th>RANGE2[V]</th>\n",
       "      <th>RANGE3[V]</th>\n",
       "      <th>RANGE4[V]</th>\n",
       "      <th>24bit[bin]</th>\n",
       "    </tr>\n",
       "  </thead>\n",
       "  <tbody>\n",
       "    <tr>\n",
       "      <th>0</th>\n",
       "      <td>21:43:14</td>\n",
       "      <td>1</td>\n",
       "      <td>0.0</td>\n",
       "      <td>-4.169924e-06</td>\n",
       "      <td>-3.327927e-06</td>\n",
       "      <td>0.000121</td>\n",
       "      <td>0.000190</td>\n",
       "      <td>0.007692</td>\n",
       "      <td>6</td>\n",
       "    </tr>\n",
       "    <tr>\n",
       "      <th>1</th>\n",
       "      <td>21:43:19</td>\n",
       "      <td>1</td>\n",
       "      <td>0.0</td>\n",
       "      <td>-4.860105e-06</td>\n",
       "      <td>3.056233e-06</td>\n",
       "      <td>-0.000111</td>\n",
       "      <td>-0.000315</td>\n",
       "      <td>0.002388</td>\n",
       "      <td>10</td>\n",
       "    </tr>\n",
       "    <tr>\n",
       "      <th>2</th>\n",
       "      <td>21:43:24</td>\n",
       "      <td>1</td>\n",
       "      <td>0.0</td>\n",
       "      <td>1.227938e-05</td>\n",
       "      <td>2.711063e-06</td>\n",
       "      <td>0.000064</td>\n",
       "      <td>-0.000680</td>\n",
       "      <td>-0.007919</td>\n",
       "      <td>-13</td>\n",
       "    </tr>\n",
       "    <tr>\n",
       "      <th>3</th>\n",
       "      <td>21:43:29</td>\n",
       "      <td>1</td>\n",
       "      <td>0.0</td>\n",
       "      <td>1.118660e-05</td>\n",
       "      <td>-7.181697e-06</td>\n",
       "      <td>0.000065</td>\n",
       "      <td>0.000017</td>\n",
       "      <td>0.003363</td>\n",
       "      <td>6</td>\n",
       "    </tr>\n",
       "    <tr>\n",
       "      <th>4</th>\n",
       "      <td>21:43:34</td>\n",
       "      <td>1</td>\n",
       "      <td>0.0</td>\n",
       "      <td>7.763744e-07</td>\n",
       "      <td>3.918703e-06</td>\n",
       "      <td>-0.000056</td>\n",
       "      <td>0.000313</td>\n",
       "      <td>-0.003231</td>\n",
       "      <td>-10</td>\n",
       "    </tr>\n",
       "    <tr>\n",
       "      <th>...</th>\n",
       "      <td>...</td>\n",
       "      <td>...</td>\n",
       "      <td>...</td>\n",
       "      <td>...</td>\n",
       "      <td>...</td>\n",
       "      <td>...</td>\n",
       "      <td>...</td>\n",
       "      <td>...</td>\n",
       "      <td>...</td>\n",
       "    </tr>\n",
       "    <tr>\n",
       "      <th>222</th>\n",
       "      <td>22:01:44</td>\n",
       "      <td>1</td>\n",
       "      <td>0.0</td>\n",
       "      <td>1.811643e-06</td>\n",
       "      <td>1.273013e-06</td>\n",
       "      <td>0.000039</td>\n",
       "      <td>0.000347</td>\n",
       "      <td>-0.000168</td>\n",
       "      <td>12</td>\n",
       "    </tr>\n",
       "    <tr>\n",
       "      <th>223</th>\n",
       "      <td>22:01:49</td>\n",
       "      <td>1</td>\n",
       "      <td>0.0</td>\n",
       "      <td>3.767157e-06</td>\n",
       "      <td>8.289933e-06</td>\n",
       "      <td>0.000050</td>\n",
       "      <td>-0.001102</td>\n",
       "      <td>-0.002063</td>\n",
       "      <td>-5</td>\n",
       "    </tr>\n",
       "    <tr>\n",
       "      <th>224</th>\n",
       "      <td>22:01:54</td>\n",
       "      <td>1</td>\n",
       "      <td>0.0</td>\n",
       "      <td>4.629882e-06</td>\n",
       "      <td>-3.903337e-06</td>\n",
       "      <td>-0.000008</td>\n",
       "      <td>-0.001749</td>\n",
       "      <td>-0.012287</td>\n",
       "      <td>0</td>\n",
       "    </tr>\n",
       "    <tr>\n",
       "      <th>225</th>\n",
       "      <td>22:01:59</td>\n",
       "      <td>1</td>\n",
       "      <td>0.0</td>\n",
       "      <td>1.984189e-06</td>\n",
       "      <td>-2.753037e-06</td>\n",
       "      <td>0.000046</td>\n",
       "      <td>0.000019</td>\n",
       "      <td>-0.002363</td>\n",
       "      <td>-9</td>\n",
       "    </tr>\n",
       "    <tr>\n",
       "      <th>226</th>\n",
       "      <td>22:02:04</td>\n",
       "      <td>1</td>\n",
       "      <td>0.0</td>\n",
       "      <td>7.763719e-07</td>\n",
       "      <td>5.253232e-07</td>\n",
       "      <td>-0.000022</td>\n",
       "      <td>0.000060</td>\n",
       "      <td>-0.001452</td>\n",
       "      <td>-14</td>\n",
       "    </tr>\n",
       "  </tbody>\n",
       "</table>\n",
       "<p>227 rows × 9 columns</p>\n",
       "</div>"
      ],
      "text/plain": [
       "         time  step  current[mA]  real_currentx10[V]     RANGE1[V]  RANGE2[V]  \\\n",
       "0    21:43:14     1          0.0       -4.169924e-06 -3.327927e-06   0.000121   \n",
       "1    21:43:19     1          0.0       -4.860105e-06  3.056233e-06  -0.000111   \n",
       "2    21:43:24     1          0.0        1.227938e-05  2.711063e-06   0.000064   \n",
       "3    21:43:29     1          0.0        1.118660e-05 -7.181697e-06   0.000065   \n",
       "4    21:43:34     1          0.0        7.763744e-07  3.918703e-06  -0.000056   \n",
       "..        ...   ...          ...                 ...           ...        ...   \n",
       "222  22:01:44     1          0.0        1.811643e-06  1.273013e-06   0.000039   \n",
       "223  22:01:49     1          0.0        3.767157e-06  8.289933e-06   0.000050   \n",
       "224  22:01:54     1          0.0        4.629882e-06 -3.903337e-06  -0.000008   \n",
       "225  22:01:59     1          0.0        1.984189e-06 -2.753037e-06   0.000046   \n",
       "226  22:02:04     1          0.0        7.763719e-07  5.253232e-07  -0.000022   \n",
       "\n",
       "     RANGE3[V]  RANGE4[V]  24bit[bin]  \n",
       "0     0.000190   0.007692           6  \n",
       "1    -0.000315   0.002388          10  \n",
       "2    -0.000680  -0.007919         -13  \n",
       "3     0.000017   0.003363           6  \n",
       "4     0.000313  -0.003231         -10  \n",
       "..         ...        ...         ...  \n",
       "222   0.000347  -0.000168          12  \n",
       "223  -0.001102  -0.002063          -5  \n",
       "224  -0.001749  -0.012287           0  \n",
       "225   0.000019  -0.002363          -9  \n",
       "226   0.000060  -0.001452         -14  \n",
       "\n",
       "[227 rows x 9 columns]"
      ]
     },
     "execution_count": 29,
     "metadata": {},
     "output_type": "execute_result"
    }
   ],
   "source": [
    "filtered_data2 = data[filter1]\n",
    "filtered_data2"
   ]
  },
  {
   "cell_type": "code",
   "execution_count": 30,
   "metadata": {
    "scrolled": true
   },
   "outputs": [
    {
     "data": {
      "image/png": "[encoded data removed]",
      "text/plain": [
       "<Figure size 432x288 with 1 Axes>"
      ]
     },
     "metadata": {
      "needs_background": "light"
     },
     "output_type": "display_data"
    }
   ],
   "source": [
    "plt.plot(filtered_data2[\"RANGE1[V]\"])\n",
    "plt.show()"
   ]
  },
  {
   "cell_type": "code",
   "execution_count": 31,
   "metadata": {},
   "outputs": [
    {
     "name": "stdout",
     "output_type": "stream",
     "text": [
      "<class 'pandas.core.frame.DataFrame'>\n",
      "RangeIndex: 9107 entries, 0 to 9106\n",
      "Data columns (total 9 columns):\n",
      " #   Column              Non-Null Count  Dtype  \n",
      "---  ------              --------------  -----  \n",
      " 0   time                9107 non-null   object \n",
      " 1   step                9107 non-null   int64  \n",
      " 2   current[mA]         9107 non-null   float64\n",
      " 3   real_currentx10[V]  9107 non-null   float64\n",
      " 4   RANGE1[V]           9107 non-null   float64\n",
      " 5   RANGE2[V]           9107 non-null   float64\n",
      " 6   RANGE3[V]           9107 non-null   float64\n",
      " 7   RANGE4[V]           9107 non-null   float64\n",
      " 8   24bit[bin]          9107 non-null   int64  \n",
      "dtypes: float64(6), int64(2), object(1)\n",
      "memory usage: 640.5+ KB\n"
     ]
    }
   ],
   "source": [
    "data.info()"
   ]
  },
  {
   "cell_type": "code",
   "execution_count": 33,
   "metadata": {},
   "outputs": [],
   "source": [
    "data.to_csv ('C:\\\\data\\\\offset_correction_data.csv', index = False, header = True)"
   ]
  },
  {
   "cell_type": "code",
   "execution_count": null,
   "metadata": {},
   "outputs": [],
   "source": []
  }
 ],
 "metadata": {
  "kernelspec": {
   "display_name": "Python 3",
   "language": "python",
   "name": "python3"
  },
  "language_info": {
   "codemirror_mode": {
    "name": "ipython",
    "version": 3
   },
   "file_extension": ".py",
   "mimetype": "text/x-python",
   "name": "python",
   "nbconvert_exporter": "python",
   "pygments_lexer": "ipython3",
   "version": "3.7.4"
  }
 },
 "nbformat": 4,
 "nbformat_minor": 4
}
